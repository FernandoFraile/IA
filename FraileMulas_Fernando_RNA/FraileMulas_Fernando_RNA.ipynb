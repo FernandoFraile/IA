{
 "cells": [
  {
   "cell_type": "markdown",
   "metadata": {},
   "source": [
    "# Práctica 3.3: Aprendizaxe en RNA por retropropagación"
   ]
  },
  {
   "cell_type": "markdown",
   "metadata": {},
   "source": [
    "<center><h3>\n",
    "    Fernando Fraile Mulas\n",
    "</h3></center>"
   ]
  },
  {
   "cell_type": "markdown",
   "metadata": {},
   "source": [
    "## Instrucións"
   ]
  },
  {
   "cell_type": "markdown",
   "metadata": {},
   "source": [
    "Isto é un **Jupyter Notebook**, un documento que integra código Python nun arquivo Markdown.\n",
    "Isto permítenos, ir exexutando celdas de código pouco a pouco, así como xerar automáticamente un informe ben formateado da práctica.\n",
    "\n",
    "Podes engadir unha celda co botón **\"Insert\"** da barra de ferramentas, e cambiar seu tipo con **\"Cell > Cell Type\"**\n",
    "\n",
    "Para executar unha celda de código, seleccionarémola e pulsaremos a botón **\"▶ Run\"** da barra de ferramentas.\n",
    "Para pasar o documento a HTML, seleccionaremos **\"File > Download as > HTML (.html)\"**\n",
    "\n",
    "Segue este guión ata o final. Executa o código proporcionado paso a paso comprendendo o que estás a facer e reflexionando sobre os resultados. Haberá preguntas intercaladas ao longo do guión, responde a todas elas na sección reservada para ese fin: **\"Respostas ao cuestionario\"**. Por favor, non modifiques ningunha liña de código agás cando se che pida explícitamente.\n",
    "\n",
    "Non esquezas insertar o teu **nome e apelidos** na celda superior."
   ]
  },
  {
   "cell_type": "markdown",
   "metadata": {},
   "source": [
    "## Entrega da práctica"
   ]
  },
  {
   "cell_type": "markdown",
   "metadata": {},
   "source": [
    "A data límite de entrega será a indicada no Campus Virtual. A entrega consistirá nun único arquivo comprimido co nome `APELIDOS_NOME_RNA.zip` que conteña os seguintes ficheiros:\n",
    "\n",
    " * `APELIDOS_NOME_RNA.html`: Arquivo HTML froito da exportación do presente Notebook, coas preguntas respondidas ao final do documento.\n",
    " * `APELIDOS_NOME_RNA.ipynb`: Arquivo Jupyter Notebook fonte.\n",
    " * Arquivo de datos do problema de libre elección."
   ]
  },
  {
   "cell_type": "markdown",
   "metadata": {},
   "source": [
    "## Números aleatorios"
   ]
  },
  {
   "cell_type": "markdown",
   "metadata": {},
   "source": [
    "<span style=\"color:red\">**MOI IMPORTANTE:**</span> Vamos a establecer un *seed* cun valor predefinido inmediatamente antes de executar calquera operación cun compoñente aleatorio. Así nos aseguraremos de que os nosos resultados sexan repetibles.\n",
    "\n",
    "Isto é, imos poñer `np.random.seed(SEED_VALUE)` antes de:\n",
    " - `train_test_split()`\n",
    " - `fit()`\n",
    " - `predict()`\n",
    " \n",
    "Tamén imos poñer `random_state=SEED_VALUE` en aquelas funcións que o admitan (coma o construtor de `MLPRegressor`).\n",
    "\n",
    "Haberá ocasión nas que isto sexa excesivo, pero así curámonos en despistes."
   ]
  },
  {
   "cell_type": "markdown",
   "metadata": {},
   "source": [
    "# Introdución"
   ]
  },
  {
   "cell_type": "markdown",
   "metadata": {},
   "source": [
    "Nesta práctica imos repasar os conceptos vistos nas clases teóricas sobre redes neuronais e retropropagación. Coma de costume, comezaremos traballando sobre un problema sinxelo e máis que coñecido, o da estimación do prezo das vivendas, para logo abordar un máis complexo, o recoñecemento de díxitos manuscritos. O último exercicio desta práctica é optativo e consiste en modelar unha rede neuronal para un problema elixido por ti mesmo."
   ]
  },
  {
   "cell_type": "markdown",
   "metadata": {},
   "source": [
    "# Estimación do prezo das vivendas"
   ]
  },
  {
   "cell_type": "markdown",
   "metadata": {},
   "source": [
    "Imos recuperar o dataset `vivendas.csv`. Volvemos a ser aquela inmobiliaria que quere desenvolver unha ferramenta para estimar o prezo de venda dos inmobles.\n",
    "\n",
    "Importa o dataset `vivendas.csv` e divídeo en dous subconxuntos, un de adestramento co 70% dos datos (`vivendas_train`) e outro de test cos datos restantes (`vivendas_test`). **Non esquezas usar `np.random.seed` e `random_state`**."
   ]
  },
  {
   "cell_type": "code",
   "execution_count": 23,
   "metadata": {},
   "outputs": [
    {
     "name": "stdout",
     "output_type": "stream",
     "text": [
      "Tamaño train: 51\n",
      "Tamaño test: 22\n"
     ]
    }
   ],
   "source": [
    "import pandas as pd\n",
    "import numpy as np\n",
    "from sklearn.model_selection import train_test_split\n",
    "SEED_VALUE = 20\n",
    "\n",
    "np.random.seed(SEED_VALUE)\n",
    "### COMPLETA O SCRIPT (non esquezas o \"random_state=SEED_VALUE\")###\n",
    "\n",
    "vivendas = pd.read_csv('vivendas.csv',  # Cargamos o csv\n",
    "                       delimiter=',',\n",
    "                       header=0)\n",
    "vivendas_train, vivendas_test = train_test_split(vivendas, test_size=0.3, random_state=SEED_VALUE)\n",
    "\n",
    "print('Tamaño train: {}'.format(vivendas_train.shape[0]))\n",
    "print('Tamaño test: {}'.format(vivendas_test.shape[0]))"
   ]
  },
  {
   "cell_type": "markdown",
   "metadata": {},
   "source": [
    "Podemos visualizar os nosos conxuntos:"
   ]
  },
  {
   "cell_type": "code",
   "execution_count": 2,
   "metadata": {},
   "outputs": [
    {
     "data": {
      "image/png": "[encoded data removed]",
      "text/plain": [
       "<Figure size 432x288 with 1 Axes>"
      ]
     },
     "metadata": {
      "needs_background": "light"
     },
     "output_type": "display_data"
    }
   ],
   "source": [
    "import matplotlib.pyplot as plt  # Importamos a libraría (isto sólo é necesario facelo unha vez)\n",
    "\n",
    "# Creamos o entorno\n",
    "fig = plt.figure()  # Creamos unha figura (contenedor para elementos a debuxar)\n",
    "ax = fig.add_subplot(111, projection='rectilinear')  # Engadimos un Axes á figura (contén os elementos do debuxo)\n",
    "plt.xlabel(\"superficie\")  # Nombramos os eixos\n",
    "plt.ylabel(\"prezo\")\n",
    "\n",
    "# Debuxamos o scatter de train\n",
    "ax.scatter(vivendas_train['superficie'], vivendas_train['prezo'], label='train')\n",
    "\n",
    "# Debuxamos o scatter de test\n",
    "ax.scatter(vivendas_test['superficie'], vivendas_test['prezo'], label='test')\n",
    "\n",
    "ax.legend()  # Facemos que se mostren as labels\n",
    "\n",
    "plt.show()"
   ]
  },
  {
   "cell_type": "markdown",
   "metadata": {},
   "source": [
    "Agora deberemos dividir os conxuntos en variables preditoras (`vivendas_train_X` e `vivendas_test_X`) e variables dependentes (`vivendas_train_Y` e `vivendas_test_Y`):"
   ]
  },
  {
   "cell_type": "code",
   "execution_count": 3,
   "metadata": {},
   "outputs": [],
   "source": [
    "### COMPLETA O SCRIPT ###\n",
    "\n",
    "# Dividimos o dataset en variables predictoras e dependentes\n",
    "vivendas_train_X = vivendas_train.loc[:, :'superficie'].astype(float)\n",
    "vivendas_train_Y = vivendas_train.loc[:, 'prezo']\n",
    "\n",
    "vivendas_test_X = vivendas_test.loc[:, :'superficie'].astype(float)\n",
    "vivendas_test_Y = vivendas_test.loc[:, 'prezo']\n",
    "\n"
   ]
  },
  {
   "cell_type": "markdown",
   "metadata": {},
   "source": [
    "## Función `MLPRegressor`"
   ]
  },
  {
   "cell_type": "markdown",
   "metadata": {},
   "source": [
    "Lembremos que unha rede neuronal está formada de tres compoñentes principais: as *neuronas*, as *funcións de activación* de cada unha delas e os *pesos* de cada unha das conexións entre neuronas.\n",
    "\n",
    "Imos construir a nosa primera rede neuronal empregando a función `MLPRegressor` que proporciona o paquete de `scikit-learn`. Imos empregar a función de activación loxística (ou sigmoidal) `activation='logistic'`. Lembremos que o problema do prezo das vivendas é un problema de **regresión**, no que tomamos como entrada un único valor, a superficie do inmoble, e queremos obter como saída outro valor, o prezo estimado do mesmo. Polo tanto, o tamaño das capas de entrada e saída da rede neuronal que modele o problema será igual a 1, é dicir, bástanos cunha neurona na entrada e outra na saída. Imos empregar tamén unha terceira capa entre a capa de entrada e a capa de saída, o que se coñece como capa oculta, que polo de agora vai ter tres neuronas. Esta rede ten o seguinte aspecto:"
   ]
  },
  {
   "cell_type": "markdown",
   "metadata": {},
   "source": [
    "![](rede-simple.png \"Rede\")"
   ]
  },
  {
   "cell_type": "markdown",
   "metadata": {},
   "source": [
    "Xa podemos empregar a clase `MLPRegressor` para crear a nosa primeira rede. A esta función pasámoslle o número de neuronas na capa oculta con `hidden_layer_sizes`. Ademais podemos fixar un número de iteracións con `max_iter` (por defecto son 200) Con `learning_rate_init=0.0025` lle indicamos canto queremos que se actualicen os pesos en cada iteración (velocidade de aprendizaxe) e con `n_iter_no_change=float('inf')` facemos que continúe o adestramento pese a que o modelo non mellore, pois queremos que alcance o número de iteracións que lle esiximos (esto fará que nos apareza un ***WARNING***, pero non hai que preocuparse). O método de aprendizaxe que empregaremos é `adam` (o cal funciona especialmente ben con moitas iteracións):"
   ]
  },
  {
   "cell_type": "code",
   "execution_count": 4,
   "metadata": {},
   "outputs": [
    {
     "name": "stderr",
     "output_type": "stream",
     "text": [
      "/opt/conda/lib/python3.9/site-packages/sklearn/neural_network/_multilayer_perceptron.py:692: ConvergenceWarning: Stochastic Optimizer: Maximum iterations (10000) reached and the optimization hasn't converged yet.\n",
      "  warnings.warn(\n"
     ]
    },
    {
     "data": {
      "text/plain": [
       "MLPRegressor(activation='logistic', hidden_layer_sizes=3,\n",
       "             learning_rate_init=0.0025, max_iter=10000, n_iter_no_change=inf,\n",
       "             random_state=20)"
      ]
     },
     "execution_count": 4,
     "metadata": {},
     "output_type": "execute_result"
    }
   ],
   "source": [
    "from sklearn.neural_network import MLPRegressor  # Importamos a clase (isto sólo é necesario facelo unha vez)\n",
    "\n",
    "# Definimos o modelo\n",
    "model_vivendas_1 = MLPRegressor(hidden_layer_sizes=3, max_iter=10000, activation='logistic', solver='adam',\n",
    "                                learning_rate_init=0.0025, n_iter_no_change=float('inf'), random_state=SEED_VALUE)\n",
    "\n",
    "# Entrenamos a rede\n",
    "np.random.seed(SEED_VALUE)\n",
    "model_vivendas_1.fit(vivendas_train_X, vivendas_train_Y)"
   ]
  },
  {
   "cell_type": "markdown",
   "metadata": {},
   "source": [
    "Agora podemos botarlle un ollo aos pesos aprendidos pola rede:"
   ]
  },
  {
   "cell_type": "code",
   "execution_count": 5,
   "metadata": {},
   "outputs": [
    {
     "data": {
      "text/plain": [
       "array([-1.16661678e-01,  1.93876215e-01,  1.85750432e-01,  4.09958577e-03,\n",
       "        2.38069168e+01,  2.40041155e+01,  1.59086583e-01,  8.37404003e+00,\n",
       "        9.06584450e+00,  2.33477783e+01])"
      ]
     },
     "execution_count": 5,
     "metadata": {},
     "output_type": "execute_result"
    }
   ],
   "source": [
    "weights = np.concatenate([w.flatten() for sublist in [model_vivendas_1.coefs_, model_vivendas_1.intercepts_] for w in sublist])\n",
    "weights"
   ]
  },
  {
   "cell_type": "markdown",
   "metadata": {},
   "source": [
    "> ❓ **_Pregunta 1._**  Por que obtemos 10 pesos se dixemos que a nosa rede ten un total de 5 neuronas? Se non das coa resposta, continúa avanzando, pode que chegues a ela máis adiante."
   ]
  },
  {
   "cell_type": "markdown",
   "metadata": {},
   "source": [
    "Agora predicimos os valores das vivendas do conxunto de test coa axuda da función `predict`:"
   ]
  },
  {
   "cell_type": "code",
   "execution_count": 6,
   "metadata": {},
   "outputs": [],
   "source": [
    "np.random.seed(SEED_VALUE)\n",
    "predicions_1 = model_vivendas_1.predict(vivendas_test_X)"
   ]
  },
  {
   "cell_type": "markdown",
   "metadata": {},
   "source": [
    "Para avaliar as predicións anterirores, recuperamos a función do erro cadrático medio da práctica 3.1:"
   ]
  },
  {
   "cell_type": "code",
   "execution_count": 7,
   "metadata": {},
   "outputs": [],
   "source": [
    "### Erro cadrático medio ###\n",
    "def ecm(reais, predicion):\n",
    "    m = len(reais)  # tamaño do conxunto de datos\n",
    "    erro = sum((predicion - reais)**2) / (2*m)\n",
    "    return erro"
   ]
  },
  {
   "cell_type": "markdown",
   "metadata": {},
   "source": [
    "Calcula o erro cadrático medio das predicións que acabamos de realizar."
   ]
  },
  {
   "cell_type": "code",
   "execution_count": 8,
   "metadata": {},
   "outputs": [
    {
     "name": "stdout",
     "output_type": "stream",
     "text": [
      "10462.630182910192\n"
     ]
    }
   ],
   "source": [
    "### COMPLETA O SCRIPT ###\n",
    "\n",
    "e_cadratico = ecm(vivendas_test_Y, predicions_1)\n",
    "print(e_cadratico)\n",
    "\n"
   ]
  },
  {
   "cell_type": "markdown",
   "metadata": {},
   "source": [
    "Que che parece este erro? Se lembras os resultados que obtivemos con regresión lineal daraste conta de que as predicións da rede neuronal son moi malas e o ECM moi alto. Bótalle un ollo aos 6 primeiros valores do array de predicións:"
   ]
  },
  {
   "cell_type": "code",
   "execution_count": 9,
   "metadata": {},
   "outputs": [
    {
     "data": {
      "text/plain": [
       "array([71.15881054, 71.1588109 , 71.15881055, 71.15881053, 71.15881055,\n",
       "       71.15881076])"
      ]
     },
     "execution_count": 9,
     "metadata": {},
     "output_type": "execute_result"
    }
   ],
   "source": [
    "predicions_1[:6]"
   ]
  },
  {
   "cell_type": "markdown",
   "metadata": {},
   "source": [
    "Algo non funcionou? O que sucede é que nosa rede neuronal non é capaz de xeneralizar o coñecemento. Este fenómeno coñécese como ___underfitting___, ou axuste insuficiente. O *underfitting* pode darse por múltiples causas, como o baixo número de mostras no noso conxunto de adestramento ou a mala elección das características que eliximos para representar o problema. Sen embargo, neste caso o motivo é outro. O rendemento dunha rede neuronal pode verse moi deteriorado se empregamos os datos en bruto sen normalizar. Moitas veces o algoritmo non converxerá antes do número máximo de iteracións permitidas. **Normalizar** non é máis que comprimir ou extender os valores dunha variable para que estén acoutados nun rango desexado. Existen diferentes métodos para normalizar os datos. Neste caso imos empregar o método *min-max* para escalar os datos das variables `superficie` e `prezo` ao rango [0,1]. Simplemente, para cada valor concreto $a_i$ dunha variable $a$, o seu correspondente valor normalizado $z_i$ virá dado por:\n",
    "$$ z_i = \\frac{a_i - \\min(a)}{\\max(a) - \\min(a)} $$\n",
    "\n",
    "En Python podemos implementar unha función que tome como entradas as mostras (de adestramento e test) dunha variable e nolas devolva escaladas:"
   ]
  },
  {
   "cell_type": "code",
   "execution_count": 10,
   "metadata": {},
   "outputs": [],
   "source": [
    "### Normalización min-max ###\n",
    "def norm_min_max(train, test):\n",
    "    maximo = train.max()\n",
    "    minimo = train.min()\n",
    "    z_train = (train - minimo) / (maximo - minimo)\n",
    "    z_test = (test - minimo) / (maximo - minimo)\n",
    "    \n",
    "    return z_train, z_test"
   ]
  },
  {
   "cell_type": "markdown",
   "metadata": {},
   "source": [
    "Empregando a función anterior, normalizamos o dataset e volvemos a obter os conxuntos de train e test:"
   ]
  },
  {
   "cell_type": "code",
   "execution_count": 11,
   "metadata": {},
   "outputs": [
    {
     "data": {
      "text/html": [
       "<div>\n",
       "<style scoped>\n",
       "    .dataframe tbody tr th:only-of-type {\n",
       "        vertical-align: middle;\n",
       "    }\n",
       "\n",
       "    .dataframe tbody tr th {\n",
       "        vertical-align: top;\n",
       "    }\n",
       "\n",
       "    .dataframe thead th {\n",
       "        text-align: right;\n",
       "    }\n",
       "</style>\n",
       "<table border=\"1\" class=\"dataframe\">\n",
       "  <thead>\n",
       "    <tr style=\"text-align: right;\">\n",
       "      <th></th>\n",
       "      <th>superficie</th>\n",
       "      <th>prezo</th>\n",
       "    </tr>\n",
       "  </thead>\n",
       "  <tbody>\n",
       "    <tr>\n",
       "      <th>1</th>\n",
       "      <td>0.203883</td>\n",
       "      <td>0.516958</td>\n",
       "    </tr>\n",
       "    <tr>\n",
       "      <th>55</th>\n",
       "      <td>0.305825</td>\n",
       "      <td>0.245766</td>\n",
       "    </tr>\n",
       "    <tr>\n",
       "      <th>24</th>\n",
       "      <td>0.456311</td>\n",
       "      <td>0.509543</td>\n",
       "    </tr>\n",
       "    <tr>\n",
       "      <th>14</th>\n",
       "      <td>0.024272</td>\n",
       "      <td>0.049403</td>\n",
       "    </tr>\n",
       "    <tr>\n",
       "      <th>59</th>\n",
       "      <td>0.131068</td>\n",
       "      <td>0.041484</td>\n",
       "    </tr>\n",
       "    <tr>\n",
       "      <th>56</th>\n",
       "      <td>0.893204</td>\n",
       "      <td>0.854642</td>\n",
       "    </tr>\n",
       "    <tr>\n",
       "      <th>68</th>\n",
       "      <td>0.155340</td>\n",
       "      <td>0.085469</td>\n",
       "    </tr>\n",
       "    <tr>\n",
       "      <th>66</th>\n",
       "      <td>0.242718</td>\n",
       "      <td>0.200750</td>\n",
       "    </tr>\n",
       "    <tr>\n",
       "      <th>57</th>\n",
       "      <td>0.300971</td>\n",
       "      <td>0.195310</td>\n",
       "    </tr>\n",
       "    <tr>\n",
       "      <th>27</th>\n",
       "      <td>1.000000</td>\n",
       "      <td>1.000000</td>\n",
       "    </tr>\n",
       "    <tr>\n",
       "      <th>53</th>\n",
       "      <td>0.131068</td>\n",
       "      <td>0.112627</td>\n",
       "    </tr>\n",
       "    <tr>\n",
       "      <th>72</th>\n",
       "      <td>0.572816</td>\n",
       "      <td>0.527926</td>\n",
       "    </tr>\n",
       "    <tr>\n",
       "      <th>39</th>\n",
       "      <td>0.165049</td>\n",
       "      <td>0.197701</td>\n",
       "    </tr>\n",
       "    <tr>\n",
       "      <th>60</th>\n",
       "      <td>0.145631</td>\n",
       "      <td>0.066515</td>\n",
       "    </tr>\n",
       "    <tr>\n",
       "      <th>17</th>\n",
       "      <td>0.121359</td>\n",
       "      <td>0.135859</td>\n",
       "    </tr>\n",
       "    <tr>\n",
       "      <th>46</th>\n",
       "      <td>0.038835</td>\n",
       "      <td>0.099684</td>\n",
       "    </tr>\n",
       "    <tr>\n",
       "      <th>49</th>\n",
       "      <td>0.223301</td>\n",
       "      <td>0.125724</td>\n",
       "    </tr>\n",
       "    <tr>\n",
       "      <th>18</th>\n",
       "      <td>0.067961</td>\n",
       "      <td>0.032160</td>\n",
       "    </tr>\n",
       "    <tr>\n",
       "      <th>47</th>\n",
       "      <td>0.252427</td>\n",
       "      <td>0.070112</td>\n",
       "    </tr>\n",
       "    <tr>\n",
       "      <th>54</th>\n",
       "      <td>0.194175</td>\n",
       "      <td>0.152203</td>\n",
       "    </tr>\n",
       "    <tr>\n",
       "      <th>48</th>\n",
       "      <td>0.257282</td>\n",
       "      <td>0.137000</td>\n",
       "    </tr>\n",
       "    <tr>\n",
       "      <th>32</th>\n",
       "      <td>0.179612</td>\n",
       "      <td>0.077198</td>\n",
       "    </tr>\n",
       "    <tr>\n",
       "      <th>30</th>\n",
       "      <td>0.189320</td>\n",
       "      <td>0.188970</td>\n",
       "    </tr>\n",
       "    <tr>\n",
       "      <th>19</th>\n",
       "      <td>0.888350</td>\n",
       "      <td>0.890356</td>\n",
       "    </tr>\n",
       "    <tr>\n",
       "      <th>52</th>\n",
       "      <td>0.815534</td>\n",
       "      <td>0.673219</td>\n",
       "    </tr>\n",
       "    <tr>\n",
       "      <th>51</th>\n",
       "      <td>0.577670</td>\n",
       "      <td>0.442875</td>\n",
       "    </tr>\n",
       "    <tr>\n",
       "      <th>10</th>\n",
       "      <td>0.533981</td>\n",
       "      <td>0.601878</td>\n",
       "    </tr>\n",
       "    <tr>\n",
       "      <th>3</th>\n",
       "      <td>0.048544</td>\n",
       "      <td>0.201913</td>\n",
       "    </tr>\n",
       "    <tr>\n",
       "      <th>25</th>\n",
       "      <td>0.344660</td>\n",
       "      <td>0.212202</td>\n",
       "    </tr>\n",
       "    <tr>\n",
       "      <th>11</th>\n",
       "      <td>0.810680</td>\n",
       "      <td>0.113307</td>\n",
       "    </tr>\n",
       "    <tr>\n",
       "      <th>13</th>\n",
       "      <td>0.199029</td>\n",
       "      <td>0.220450</td>\n",
       "    </tr>\n",
       "    <tr>\n",
       "      <th>65</th>\n",
       "      <td>0.203883</td>\n",
       "      <td>0.082968</td>\n",
       "    </tr>\n",
       "    <tr>\n",
       "      <th>6</th>\n",
       "      <td>0.208738</td>\n",
       "      <td>0.440396</td>\n",
       "    </tr>\n",
       "    <tr>\n",
       "      <th>67</th>\n",
       "      <td>0.004854</td>\n",
       "      <td>0.017550</td>\n",
       "    </tr>\n",
       "    <tr>\n",
       "      <th>58</th>\n",
       "      <td>0.135922</td>\n",
       "      <td>0.073030</td>\n",
       "    </tr>\n",
       "    <tr>\n",
       "      <th>7</th>\n",
       "      <td>0.087379</td>\n",
       "      <td>0.191558</td>\n",
       "    </tr>\n",
       "    <tr>\n",
       "      <th>37</th>\n",
       "      <td>0.388350</td>\n",
       "      <td>0.135662</td>\n",
       "    </tr>\n",
       "    <tr>\n",
       "      <th>41</th>\n",
       "      <td>0.388350</td>\n",
       "      <td>0.256318</td>\n",
       "    </tr>\n",
       "    <tr>\n",
       "      <th>64</th>\n",
       "      <td>0.087379</td>\n",
       "      <td>0.133753</td>\n",
       "    </tr>\n",
       "    <tr>\n",
       "      <th>62</th>\n",
       "      <td>0.305825</td>\n",
       "      <td>0.198644</td>\n",
       "    </tr>\n",
       "    <tr>\n",
       "      <th>38</th>\n",
       "      <td>0.043689</td>\n",
       "      <td>0.000000</td>\n",
       "    </tr>\n",
       "    <tr>\n",
       "      <th>61</th>\n",
       "      <td>0.000000</td>\n",
       "      <td>0.150228</td>\n",
       "    </tr>\n",
       "    <tr>\n",
       "      <th>16</th>\n",
       "      <td>0.082524</td>\n",
       "      <td>0.055809</td>\n",
       "    </tr>\n",
       "    <tr>\n",
       "      <th>26</th>\n",
       "      <td>0.475728</td>\n",
       "      <td>0.564409</td>\n",
       "    </tr>\n",
       "    <tr>\n",
       "      <th>40</th>\n",
       "      <td>0.004854</td>\n",
       "      <td>0.124079</td>\n",
       "    </tr>\n",
       "    <tr>\n",
       "      <th>34</th>\n",
       "      <td>0.456311</td>\n",
       "      <td>0.353655</td>\n",
       "    </tr>\n",
       "    <tr>\n",
       "      <th>22</th>\n",
       "      <td>0.033981</td>\n",
       "      <td>0.029572</td>\n",
       "    </tr>\n",
       "    <tr>\n",
       "      <th>20</th>\n",
       "      <td>0.029126</td>\n",
       "      <td>0.083955</td>\n",
       "    </tr>\n",
       "    <tr>\n",
       "      <th>9</th>\n",
       "      <td>0.043689</td>\n",
       "      <td>0.037403</td>\n",
       "    </tr>\n",
       "    <tr>\n",
       "      <th>28</th>\n",
       "      <td>0.092233</td>\n",
       "      <td>0.163829</td>\n",
       "    </tr>\n",
       "    <tr>\n",
       "      <th>15</th>\n",
       "      <td>0.077670</td>\n",
       "      <td>0.131954</td>\n",
       "    </tr>\n",
       "  </tbody>\n",
       "</table>\n",
       "</div>"
      ],
      "text/plain": [
       "    superficie     prezo\n",
       "1     0.203883  0.516958\n",
       "55    0.305825  0.245766\n",
       "24    0.456311  0.509543\n",
       "14    0.024272  0.049403\n",
       "59    0.131068  0.041484\n",
       "56    0.893204  0.854642\n",
       "68    0.155340  0.085469\n",
       "66    0.242718  0.200750\n",
       "57    0.300971  0.195310\n",
       "27    1.000000  1.000000\n",
       "53    0.131068  0.112627\n",
       "72    0.572816  0.527926\n",
       "39    0.165049  0.197701\n",
       "60    0.145631  0.066515\n",
       "17    0.121359  0.135859\n",
       "46    0.038835  0.099684\n",
       "49    0.223301  0.125724\n",
       "18    0.067961  0.032160\n",
       "47    0.252427  0.070112\n",
       "54    0.194175  0.152203\n",
       "48    0.257282  0.137000\n",
       "32    0.179612  0.077198\n",
       "30    0.189320  0.188970\n",
       "19    0.888350  0.890356\n",
       "52    0.815534  0.673219\n",
       "51    0.577670  0.442875\n",
       "10    0.533981  0.601878\n",
       "3     0.048544  0.201913\n",
       "25    0.344660  0.212202\n",
       "11    0.810680  0.113307\n",
       "13    0.199029  0.220450\n",
       "65    0.203883  0.082968\n",
       "6     0.208738  0.440396\n",
       "67    0.004854  0.017550\n",
       "58    0.135922  0.073030\n",
       "7     0.087379  0.191558\n",
       "37    0.388350  0.135662\n",
       "41    0.388350  0.256318\n",
       "64    0.087379  0.133753\n",
       "62    0.305825  0.198644\n",
       "38    0.043689  0.000000\n",
       "61    0.000000  0.150228\n",
       "16    0.082524  0.055809\n",
       "26    0.475728  0.564409\n",
       "40    0.004854  0.124079\n",
       "34    0.456311  0.353655\n",
       "22    0.033981  0.029572\n",
       "20    0.029126  0.083955\n",
       "9     0.043689  0.037403\n",
       "28    0.092233  0.163829\n",
       "15    0.077670  0.131954"
      ]
     },
     "execution_count": 11,
     "metadata": {},
     "output_type": "execute_result"
    }
   ],
   "source": [
    "vivendas_train_n, vivendas_test_n = norm_min_max(vivendas_train, vivendas_test)\n",
    "vivendas_train_n"
   ]
  },
  {
   "cell_type": "markdown",
   "metadata": {},
   "source": [
    "> ❓ **_Pregunta 2._**  Observa detidamente os dous últimos scripts. Por que cres que a función `norm_min_max` trata internamente de distinto xeito os conxuntos de train e test? Cres que poderiamos normalizar a variable primeiro e logo facer a división en subconxuntos adestramento e test? Por que normalizamos de xeito independente cada variable? Non sería máis doado calcular o máximo e o mínimo de todo o dataframe?"
   ]
  },
  {
   "cell_type": "markdown",
   "metadata": {},
   "source": [
    "Constrúe unha rede neuronal coas mesmas características que a anterior pero empregando os **datos normalizados**. Este modelo chamarase `model_vivendas_2`. **Non esquezas o seed**. (Pista: Comeza por dividir novamente os datos en variables predictoras e dependentes)"
   ]
  },
  {
   "cell_type": "code",
   "execution_count": 12,
   "metadata": {},
   "outputs": [
    {
     "name": "stderr",
     "output_type": "stream",
     "text": [
      "/opt/conda/lib/python3.9/site-packages/sklearn/neural_network/_multilayer_perceptron.py:692: ConvergenceWarning: Stochastic Optimizer: Maximum iterations (10000) reached and the optimization hasn't converged yet.\n",
      "  warnings.warn(\n"
     ]
    },
    {
     "data": {
      "text/plain": [
       "array([-0.20811595,  6.54163093,  3.7971231 ,  0.05733082,  1.82838145,\n",
       "        0.7037315 ,  0.32155975, -7.59444543, -0.8101463 , -0.19731579])"
      ]
     },
     "execution_count": 12,
     "metadata": {},
     "output_type": "execute_result"
    }
   ],
   "source": [
    "### COMPLETA O SCRIPT (non esquezas o \"random_state=SEED_VALUE\") e o \"np.random.seed\" ###\n",
    "\n",
    "vivendas_train, vivendas_test = train_test_split(vivendas, test_size=0.3, random_state=SEED_VALUE)\n",
    "\n",
    "### COMPLETA O SCRIPT ###\n",
    "\n",
    "# Dividimos o dataset en variables predictoras e dependentes\n",
    "\n",
    "vivendas_train_n, vivendas_test_n = norm_min_max(vivendas_train, vivendas_test)\n",
    "\n",
    "vivendas_train_X_n = vivendas_train_n.loc[:, :'superficie'].astype(float)\n",
    "vivendas_train_Y_n = vivendas_train_n.loc[:, 'prezo']\n",
    "\n",
    "vivendas_test_X_n = vivendas_test_n.loc[:, :'superficie'].astype(float)\n",
    "vivendas_test_Y_n = vivendas_test_n.loc[:, 'prezo']\n",
    "# Definimos o modelo\n",
    "model_vivendas_2 = MLPRegressor(hidden_layer_sizes=3, max_iter=10000, activation='logistic', solver='adam',\n",
    "                                learning_rate_init=0.0025, n_iter_no_change=float('inf'), random_state=SEED_VALUE)\n",
    "\n",
    "# Entrenamos a rede\n",
    "np.random.seed(SEED_VALUE)\n",
    "model_vivendas_2.fit(vivendas_train_X_n, vivendas_train_Y_n)\n",
    "\n",
    "weights = np.concatenate([w.flatten() for sublist in [model_vivendas_2.coefs_, model_vivendas_2.intercepts_] for w in sublist])\n",
    "weights\n"
   ]
  },
  {
   "cell_type": "markdown",
   "metadata": {},
   "source": [
    "Fai de novo as predicións dos prezos do conxunto de test e obtén o seu ECM. Lembra que os datos agora están normalizados, polo tanto a predición e o ECM tamén o van estar. Para obter valores que poidamos interpretar en euros, tes que \"desnormalizar\" as predicións: \n",
    "$$ a_i =  z_i \\times [\\max(a) - \\min(a)] + \\min(a)  $$"
   ]
  },
  {
   "cell_type": "code",
   "execution_count": 13,
   "metadata": {},
   "outputs": [
    {
     "data": {
      "text/plain": [
       "2050.7022406953915"
      ]
     },
     "execution_count": 13,
     "metadata": {},
     "output_type": "execute_result"
    }
   ],
   "source": [
    "np.random.seed(SEED_VALUE)\n",
    "\n",
    "predicions_2_n = model_vivendas_2.predict(vivendas_test_X_n)\n",
    "predicions_2 = (predicions_2_n * (vivendas_train.max()['prezo']-vivendas_train.min()['prezo']) + vivendas_train.min()['prezo'])\n",
    "\n",
    "ecm(vivendas_test['prezo'], predicions_2)"
   ]
  },
  {
   "cell_type": "markdown",
   "metadata": {},
   "source": [
    "O número de capas ocultas que empreguemos así como o número de neuronas en cada unha delas teñen moita influencia na efectividade do noso modelo. Crea agora empregando os **datos normalizados** unha rede cunha capa oculta de **53 neuronas** e mide o seu rendemento. Este modelo chamarase `modelo_vivendas_3`. Fixa o límite de **iteracións a 30000**."
   ]
  },
  {
   "cell_type": "code",
   "execution_count": 14,
   "metadata": {},
   "outputs": [
    {
     "name": "stderr",
     "output_type": "stream",
     "text": [
      "/opt/conda/lib/python3.9/site-packages/sklearn/neural_network/_multilayer_perceptron.py:692: ConvergenceWarning: Stochastic Optimizer: Maximum iterations (30000) reached and the optimization hasn't converged yet.\n",
      "  warnings.warn(\n"
     ]
    },
    {
     "data": {
      "text/plain": [
       "array([ 9.02950323e-01,  9.47504933e-01,  9.74671056e-01,  9.22514466e-01,\n",
       "       -1.21430097e+00,  1.25913113e+00, -1.18387898e+00,  1.14266658e+00,\n",
       "       -1.07380193e+00,  1.05322242e+00, -1.27626279e+00,  9.60933531e-01,\n",
       "        1.31103355e+00, -1.02035591e+00, -1.10589670e+00,  1.13801207e+00,\n",
       "        1.24870097e+00,  9.32191607e-01, -1.38889891e+00,  1.15711217e+01,\n",
       "        1.12424227e+01, -5.42562404e-01,  7.88805882e-01,  6.24528830e-01,\n",
       "       -1.12740694e+00, -1.07539710e+00, -1.17686678e+00,  1.29185760e+00,\n",
       "        2.13760829e+00, -1.12381759e+00,  1.35107377e+00, -9.61553420e-01,\n",
       "       -1.13537200e+00,  1.00736254e+00,  1.40458753e+00, -1.13102211e+00,\n",
       "       -1.08886985e+00, -1.26298989e+00, -1.28034611e+00,  1.35547668e+00,\n",
       "        1.45903329e+00, -1.30839200e+00,  4.48115276e-01, -1.35467716e+00,\n",
       "       -1.94098739e+01,  1.01775857e+00,  8.82228293e-01, -1.23311871e+00,\n",
       "       -1.03530212e+00, -1.23428458e+00, -1.02922669e+00,  3.29494985e-01,\n",
       "        1.11275314e+00, -2.82161558e-01, -2.78631701e-01, -2.65919293e-01,\n",
       "       -2.54013097e-01,  3.91290273e-01, -4.53124073e-01,  4.26359137e-01,\n",
       "       -4.00248289e-01,  4.99672109e-01, -4.13396608e-01,  4.53112605e-01,\n",
       "       -2.99380176e-01, -4.94350774e-01,  4.30748593e-01,  4.66191348e-01,\n",
       "       -4.72295238e-01, -4.59044928e-01, -2.37583409e-01,  4.54767050e-01,\n",
       "        1.93047783e+00,  2.47733432e+00,  3.52595657e-01, -2.27045875e-01,\n",
       "       -2.10872310e-01,  4.24695144e-01,  4.20842008e-01,  4.37745335e-01,\n",
       "       -3.99106657e-01,  3.48447509e-01,  4.46366574e-01, -4.73246305e-01,\n",
       "        3.82934267e-01,  4.52731001e-01, -4.38426791e-01, -5.32937927e-01,\n",
       "        4.93841722e-01,  4.35097147e-01,  4.42847484e-01,  4.19663233e-01,\n",
       "       -4.96058475e-01, -5.52758506e-01,  4.47077417e-01, -1.75224624e-01,\n",
       "        4.50611959e-01, -2.22533977e+00, -3.47327938e-01, -2.93549223e-01,\n",
       "        4.26608125e-01,  4.32939224e-01,  4.77610167e-01,  4.09782402e-01,\n",
       "       -2.11496290e-01, -4.09765600e-01, -2.38511009e-02, -1.51692777e-01,\n",
       "       -2.83019830e-01, -2.00156897e-01,  3.85729502e-01, -3.74278839e-01,\n",
       "        2.82158470e-01, -2.51448924e-01,  3.10817019e-03, -5.94736300e-02,\n",
       "        3.94653302e-01, -1.09165472e-01, -4.07434353e-01, -2.14015256e-02,\n",
       "        1.04385519e-01, -1.45506019e-01, -3.49463670e-01, -3.38513038e-01,\n",
       "        5.56182781e-01, -1.11591292e+00, -4.96801809e+00, -1.35282473e+00,\n",
       "        5.29979661e-02,  5.30360570e-01,  1.88034403e-01,  9.91055583e-02,\n",
       "        2.55361711e-01, -5.22133160e-01,  7.12419703e-01,  1.53221342e-01,\n",
       "       -4.94086806e-01, -6.94114925e-02,  1.65656473e-01,  6.84529328e-02,\n",
       "       -5.07973481e-01,  1.14362001e-01,  1.04497802e-01,  3.86869273e-01,\n",
       "        4.51824014e-01, -4.73377539e-01, -5.66759676e-01,  4.50434313e-01,\n",
       "        1.06925491e+00,  5.13434523e-01,  1.66299272e+01, -1.07203374e-01,\n",
       "        6.76186487e-02,  3.61581461e-01,  5.38398908e-03,  3.03298536e-01,\n",
       "        2.65674935e-02,  1.90552304e+00, -1.80005272e-01,  1.44639943e-03])"
      ]
     },
     "execution_count": 14,
     "metadata": {},
     "output_type": "execute_result"
    }
   ],
   "source": [
    "### COMPLETA O SCRIPT (non esquezas o \"random_state=SEED_VALUE\") e o \"np.random.seed\" ###\n",
    "\n",
    "\n",
    "# Definimos o modelo\n",
    "model_vivendas_3 = MLPRegressor(hidden_layer_sizes=53, max_iter=30000, activation='logistic', solver='adam',\n",
    "                                learning_rate_init=0.0025, n_iter_no_change=float('inf'), random_state=SEED_VALUE)\n",
    "\n",
    "# Entrenamos a rede\n",
    "np.random.seed(SEED_VALUE)\n",
    "model_vivendas_3.fit(vivendas_train_X_n, vivendas_train_Y_n)\n",
    "\n",
    "weights = np.concatenate([w.flatten() for sublist in [model_vivendas_3.coefs_, model_vivendas_3.intercepts_] for w in sublist])\n",
    "weights"
   ]
  },
  {
   "cell_type": "code",
   "execution_count": 15,
   "metadata": {},
   "outputs": [
    {
     "data": {
      "text/plain": [
       "3691.951982178667"
      ]
     },
     "execution_count": 15,
     "metadata": {},
     "output_type": "execute_result"
    }
   ],
   "source": [
    "np.random.seed(SEED_VALUE)\n",
    "\n",
    "predicions_3_n = model_vivendas_3.predict(vivendas_test_X_n)\n",
    "predicions_3 = (predicions_3_n * (vivendas_train.max()['prezo']-vivendas_train.min()['prezo']) + vivendas_train.min()['prezo'])\n",
    "\n",
    "ecm(vivendas_test['prezo'], predicions_3)"
   ]
  },
  {
   "cell_type": "markdown",
   "metadata": {},
   "source": [
    "Se fixeches todo ben, verás que non consegues mellorar as predicións de test aumentando o número de neuronas, senon todo o contrario. Como é isto posible? Imos botarlle un ollo ao axuste que fai o modelo sobre os datos de adestramento."
   ]
  },
  {
   "cell_type": "code",
   "execution_count": 16,
   "metadata": {},
   "outputs": [
    {
     "data": {
      "text/plain": [
       "1041.6727673500811"
      ]
     },
     "execution_count": 16,
     "metadata": {},
     "output_type": "execute_result"
    }
   ],
   "source": [
    "np.random.seed(SEED_VALUE)\n",
    "\n",
    "predicions_train_3_n = model_vivendas_3.predict(vivendas_train_X_n)\n",
    "predicions_train_3 = (predicions_train_3_n * (vivendas_train.max()['prezo']-vivendas_train.min()['prezo']) + vivendas_train.min()['prezo'])\n",
    "ecm(vivendas_train['prezo'], predicions_train_3)"
   ]
  },
  {
   "cell_type": "markdown",
   "metadata": {},
   "source": [
    "Observa que o ECM que se comete sobre o conxunto de adestramento é moi baixo, pero cando probamos o modelo con novos datos, este non é capaz de xeneralizar e o erro dispárase. Este fenómeno denomínase *overfitting*, ou sobreaxuste. As redes neuronais teñen unha forte tendencia ao sobreaxuste, o que implica que resultan moi boas atopando relacións nos datos de adestramento pero, pola contra, non son tan efectivas cando se lles presentan datos novos.\n",
    "\n",
    "O seguinte fragmento de código grafica os axustes das 3 redes que levamos creado ata o de agora. "
   ]
  },
  {
   "cell_type": "code",
   "execution_count": 22,
   "metadata": {},
   "outputs": [
    {
     "name": "stdout",
     "output_type": "stream",
     "text": [
      "Número de datos en line_y_vals_model_2: 100\n",
      "Número de datos en prexzo: 73\n"
     ]
    },
    {
     "name": "stderr",
     "output_type": "stream",
     "text": [
      "/opt/conda/lib/python3.9/site-packages/sklearn/base.py:445: UserWarning: X does not have valid feature names, but MLPRegressor was fitted with feature names\n",
      "  warnings.warn(\n",
      "/opt/conda/lib/python3.9/site-packages/sklearn/base.py:445: UserWarning: X does not have valid feature names, but MLPRegressor was fitted with feature names\n",
      "  warnings.warn(\n",
      "/opt/conda/lib/python3.9/site-packages/sklearn/base.py:445: UserWarning: X does not have valid feature names, but MLPRegressor was fitted with feature names\n",
      "  warnings.warn(\n"
     ]
    },
    {
     "data": {
      "image/png": "[encoded data removed]",
      "text/plain": [
       "<Figure size 432x288 with 1 Axes>"
      ]
     },
     "metadata": {
      "needs_background": "light"
     },
     "output_type": "display_data"
    }
   ],
   "source": [
    "# Creamos o entorno\n",
    "fig = plt.figure()  # Creamos unha figura (contenedor para elementos a debuxar)\n",
    "ax = fig.add_subplot(111, projection='rectilinear')  # Engadimos un Axes á figura (contén os elementos do debuxo)\n",
    "plt.xlabel(\"superficie\")  # Nombramos os eixos\n",
    "plt.ylabel(\"prezo\")\n",
    "\n",
    "# Debuxamos o scatter\n",
    "ax.scatter(vivendas['superficie'], vivendas['prezo'], color='black')\n",
    "\n",
    "line_x_vals = np.expand_dims(np.linspace(ax.get_xlim()[0], ax.get_xlim()[1], num=100), axis=-1)  # Obtemos unha serie de valores ao longo do eixo X\n",
    "line_x_vals_n = (line_x_vals - vivendas_train.min()['superficie']) / (vivendas_train.max()['superficie'] - vivendas_train.min()['superficie'])\n",
    "\n",
    "# Creamos e mostramos o modelo 1\n",
    "line_y_vals_model_1 = model_vivendas_1.predict(line_x_vals)\n",
    "ax.plot(line_x_vals, line_y_vals_model_1, '--', color='r', label='Underfitting')\n",
    "\n",
    "# Creamos e mostramos o modelo 2\n",
    "line_y_vals_model_2_n = model_vivendas_2.predict(line_x_vals_n)\n",
    "line_y_vals_model_2 = (line_y_vals_model_2_n * (vivendas_train.max()['prezo']-vivendas_train.min()['prezo']) + vivendas_train.min()['prezo'])\n",
    "\n",
    "ax.plot(line_x_vals, line_y_vals_model_2, '--', color='b', label='Axuste correcto')\n",
    "\n",
    "# Creamos e mostramos o modelo 3\n",
    "line_y_vals_model_3_n = model_vivendas_3.predict(line_x_vals_n)\n",
    "line_y_vals_model_3 = (line_y_vals_model_3_n * (vivendas_train.max()['prezo']-vivendas_train.min()['prezo']) + vivendas_train.min()['prezo'])\n",
    "ax.plot(line_x_vals, line_y_vals_model_3, '--', color='g', label='Overfitting')\n",
    "\n",
    "\n",
    "ax.legend()  # Facemos que se mostren as labels\n",
    "\n",
    "plt.show()  # Mostramos a figura"
   ]
  },
  {
   "cell_type": "markdown",
   "metadata": {},
   "source": [
    "> ❓ **_Pregunta 3._**  Explica a gráfica anterior, comentando que representan os puntos nas distintas cores, as liñas, etc., e comparando as tres propostas."
   ]
  },
  {
   "cell_type": "markdown",
   "metadata": {},
   "source": [
    "Non existe ningunha regra universal ou ecuación que nos permita coñecer o número óptimo de neuronas e capas a empregar nas nosas redes. Habitualmente, unha única capa oculta soe ser dabondo para unha ampla variedade de aplicacións. Polo que respecta ao número de neuronas da(s) capa(s) oculta(s), é habitual que estea entre o tamaño da capa de entrada e o da capa de saída. Típicamente para acadar boas configuracións de parámetros realízanse sucesivos adestramentos variando a arquitectura da rede e avalíanse mediante técnicas como ___cross validation___, que basicamente consisten en realizar o adestramento varias veces, variando o conxunto de datos de adestramento e test, necesario entre outras cousas para detectar cando o axuste é correcto e cando se produce *overfitting*."
   ]
  },
  {
   "cell_type": "markdown",
   "metadata": {},
   "source": [
    "## Profundizando no MLP"
   ]
  },
  {
   "cell_type": "markdown",
   "metadata": {},
   "source": [
    "Agora xa sabemos empregar a función `MLPRegressor` para crear un Multi-layer Perceptron para a regresión de valores. Imos profundizar un pouco máis no seu uso e comprender o que fai.\n",
    "\n",
    "Empregando a función `plotMLP` imos amosar a rede que entrenamos:"
   ]
  },
  {
   "cell_type": "code",
   "execution_count": 24,
   "metadata": {},
   "outputs": [
    {
     "data": {
      "image/png": "[encoded data removed]",
      "text/plain": [
       "<Figure size 720x720 with 1 Axes>"
      ]
     },
     "metadata": {
      "needs_background": "light"
     },
     "output_type": "display_data"
    }
   ],
   "source": [
    "from scikit_plot import plotMLP  # Importamos a libraría (isto sólo é necesario facelo unha vez)\n",
    "\n",
    "plotMLP(model_vivendas_2, figsize=(10, 10))"
   ]
  },
  {
   "cell_type": "markdown",
   "metadata": {},
   "source": [
    "> ❓ **_Pregunta 4._**  Que representan os nodos e as frechas en cor azul na figura anterior? Por que teñen un número 1 eses nodos? Revisa a túa resposta da Pregunta 1 se é preciso."
   ]
  },
  {
   "cell_type": "markdown",
   "metadata": {},
   "source": [
    "En `MLPRegressor` podemos usar o parámetro `hidden_layer_sizes` non só para indicar o número de neuronas nunha única capa oculta. Se en lugar dun único valor enteiro lle pasamos unha lista de enteiros, a función vai interpretar que desexamos ter tantas capas ocultas como elementos hai na lista. Deste xeito, o primeiro valor do vector indicará o número de neuronas da primeira capa oculta, o segundo o da segunda, etc. Crea agora unha rede neuronal (`model_vivendas_4`) que teña **tres capas ocultas**, de xeito que a primeira delas teña **2 neuronas**, **a segunda 4** e **a terceira 3**. Avalía o modelo e representa gráficamente a rede."
   ]
  },
  {
   "cell_type": "code",
   "execution_count": 41,
   "metadata": {
    "scrolled": true
   },
   "outputs": [
    {
     "name": "stderr",
     "output_type": "stream",
     "text": [
      "/opt/conda/lib/python3.9/site-packages/sklearn/neural_network/_multilayer_perceptron.py:692: ConvergenceWarning: Stochastic Optimizer: Maximum iterations (10000) reached and the optimization hasn't converged yet.\n",
      "  warnings.warn(\n"
     ]
    },
    {
     "data": {
      "text/plain": [
       "8395.087624970767"
      ]
     },
     "execution_count": 41,
     "metadata": {},
     "output_type": "execute_result"
    }
   ],
   "source": [
    "### COMPLETA O SCRIPT (non esquezas o \"random_state=SEED_VALUE\") e o \"np.random.seed\" ###\n",
    "\n",
    "\n",
    "# Definimos o modelo\n",
    "model_vivendas_4 = MLPRegressor(hidden_layer_sizes=[2,4,3], mdax_iter=10000, activation='logistic', solver='adam',\n",
    "                                learning_rate_init=0.0025, n_iter_no_change=float('inf'), random_state=SEED_VALUE)\n",
    "\n",
    "# Entrenamos a rede con los datos normalizados para que no se produzca underfitting\n",
    "np.random.seed(SEED_VALUE)\n",
    "model_vivendas_4.fit(vivendas_train_X_n, vivendas_train_Y_n)\n",
    "\n",
    "np.random.seed(SEED_VALUE)\n",
    "\n",
    "predicions_4_n = model_vivendas_4.predict(vivendas_test_X_n)\n",
    "predicions_4 = (predicions_4_n * (vivendas_train.max()['prezo']-vivendas_train.min()['prezo']) + vivendas_train.min()['prezo'])\n",
    "\n",
    "ecm(vivendas_test['prezo'], predicions_4)\n",
    "\n"
   ]
  },
  {
   "cell_type": "code",
   "execution_count": 39,
   "metadata": {},
   "outputs": [
    {
     "name": "stderr",
     "output_type": "stream",
     "text": [
      "/opt/conda/lib/python3.9/site-packages/sklearn/base.py:445: UserWarning: X does not have valid feature names, but MLPRegressor was fitted with feature names\n",
      "  warnings.warn(\n"
     ]
    },
    {
     "data": {
      "text/plain": [
       "[<matplotlib.lines.Line2D at 0x7f4e32fbf580>]"
      ]
     },
     "execution_count": 39,
     "metadata": {},
     "output_type": "execute_result"
    },
    {
     "data": {
      "image/png": "[encoded data removed]",
      "text/plain": [
       "<Figure size 432x288 with 1 Axes>"
      ]
     },
     "metadata": {
      "needs_background": "light"
     },
     "output_type": "display_data"
    }
   ],
   "source": [
    "\n",
    "# Creamos o entorno\n",
    "fig = plt.figure()  # Creamos unha figura (contenedor para elementos a debuxar)\n",
    "ax = fig.add_subplot(111, projection='rectilinear')  # Engadimos un Axes á figura (contén os elementos do debuxo)\n",
    "plt.xlabel(\"superficie\")  # Nombramos os eixos\n",
    "plt.ylabel(\"prezo\")\n",
    "\n",
    "# Debuxamos o scatter\n",
    "ax.scatter(vivendas['superficie'], vivendas['prezo'], color='black')\n",
    "\n",
    "line_x_vals_n = (line_x_vals - vivendas_train.min()['superficie']) / (vivendas_train.max()['superficie'] - vivendas_train.min()['superficie'])\n",
    "\n",
    "\n",
    "# Creamos e mostramos o modelo 2\n",
    "line_y_vals_model_4_n = model_vivendas_4.predict(line_x_vals_n)\n",
    "line_y_vals_model_4 = (line_y_vals_model_4_n * (vivendas_train.max()['prezo']-vivendas_train.min()['prezo']) + vivendas_train.min()['prezo'])\n",
    "ax.plot(line_x_vals, line_y_vals_model_4, '--', color='b', label='Axuste correcto')\n"
   ]
  },
  {
   "cell_type": "markdown",
   "metadata": {},
   "source": [
    "Como se puede observar, el modelo tiene un ecm muy elevado, provocado por el devío de la gráfica en el valor del outlier mencionado previamente, por lo que la predicción tiene un error muy elevado en torno a ese valor. "
   ]
  },
  {
   "cell_type": "code",
   "execution_count": 29,
   "metadata": {},
   "outputs": [
    {
     "data": {
      "image/png": "[encoded data removed]",
      "text/plain": [
       "<Figure size 1080x1080 with 1 Axes>"
      ]
     },
     "metadata": {
      "needs_background": "light"
     },
     "output_type": "display_data"
    }
   ],
   "source": [
    "plotMLP(model_vivendas_4, figsize=(15, 15))\n"
   ]
  },
  {
   "cell_type": "markdown",
   "metadata": {},
   "source": [
    "O *learning rate* (coeficiente de velocidade de aprendizaxe) determina canto afecta a retropropagación aos pesos en cada iteración. Este coeficiente é equivalente ao $\\alpha$ que vimos nas práctica 3.1 de regresión. Nas clases teóricas empregabamos a letra grega $\\eta$ para referirnos a el. \n",
    "\n",
    "Un *learning rate* elevado implica que durante o adestramento cada iteración pode modificar fortemente os valores dos pesos ou, dito doutro xeito, o algoritmo \"aprende\" moito de cada un dos exemplos do dataset. Isto tamén significa que un só *outlier* pode afectar seriamente aos valores dos pesos e facer que o algoritmo diverxa e non chegue a un axuste de pesos óptimo. Pola contra, un coeficiente de aprendizaxe baixo significa que o algoritmo \"aprende\" menos de cada exemplo do dataset, así que a rede neuronal verase menos afectada por *outliers*, aínda que se necesitarán máis exemplos e iteracións para que o algoritmo converxa e se obteña un bo modelo. \n",
    "\n",
    "En `MLPRegressor` podemos axustar este coeficiente co parámetro `learning_rate_init`, que ata agora deixamos fixo a `0.0025`. esta función continúa o adestramento ata acadar `max_iter` ou converxer, polo que se empregamos un `learning_rate_init` inapropiado (moi elevado ou moi baixo), `MLPRegressor` non converxerá e amosará un *WARNING* (nos exemplos anteriores sempre se amosaba o *WARNING* porque desactivábamos o *early stopping* mediante `n_iter_no_change=float('inf')`). No seguinte script obtemos dous novos modelos prácticamente idénticos, agás polo *learning rate* empregado. "
   ]
  },
  {
   "cell_type": "code",
   "execution_count": 35,
   "metadata": {},
   "outputs": [
    {
     "name": "stdout",
     "output_type": "stream",
     "text": [
      "Tempo de execución con \"learning_rate = 0.001\": 2.45s\n",
      "Número de iteracións necesarias: 7257\n",
      "Erro cadrático medio: 1998.7191216475017\n",
      "\n",
      "Tempo de execución con \"learning_rate = 0.00018\": 4.47s\n",
      "Número de iteracións necesarias: 13756\n",
      "Erro cadrático medio: 1893.7682135018667\n"
     ]
    }
   ],
   "source": [
    "import time  # Para medir tempos de execución\n",
    "\n",
    "## Usando learningrate = 0.001\n",
    "model_vivendas_5 = MLPRegressor(hidden_layer_sizes=[2, 4, 3], max_iter=30000, activation='logistic', solver='adam',\n",
    "                                learning_rate_init=0.001, n_iter_no_change=5000, tol=2e-6,random_state=SEED_VALUE)\n",
    "\n",
    "np.random.seed(SEED_VALUE)\n",
    "\n",
    "start = time.process_time()\n",
    "model_vivendas_5.fit(vivendas_train_X_n, vivendas_train_Y_n)\n",
    "end = time.process_time()\n",
    "\n",
    "predicions_5_n = model_vivendas_5.predict(vivendas_test_X_n)\n",
    "predicions_5 = (predicions_5_n * (vivendas_train.max()['prezo']-vivendas_train.min()['prezo']) + vivendas_train.min()['prezo'])\n",
    "erro_5 = ecm(vivendas_test['prezo'], predicions_5)\n",
    "\n",
    "print('Tempo de execución con \"learning_rate = 0.001\": {:.2f}s'.format(end - start))\n",
    "print('Número de iteracións necesarias: {}'.format(model_vivendas_5.n_iter_))\n",
    "print('Erro cadrático medio: {}'.format(erro_5))\n",
    "print()\n",
    "\n",
    "\n",
    "## Usando learningrate = 0.00018\n",
    "model_vivendas_6 = MLPRegressor(hidden_layer_sizes=[2, 4, 3], max_iter=30000, activation='logistic', solver='adam',\n",
    "                                learning_rate_init=0.00018, n_iter_no_change=5000, tol=2e-6,random_state=SEED_VALUE)\n",
    "\n",
    "np.random.seed(SEED_VALUE)\n",
    "\n",
    "start = time.process_time()\n",
    "model_vivendas_6.fit(vivendas_train_X_n, vivendas_train_Y_n)\n",
    "end = time.process_time()\n",
    "\n",
    "predicions_6_n = model_vivendas_6.predict(vivendas_test_X_n)\n",
    "predicions_6 = (predicions_6_n * (vivendas_train.max()['prezo']-vivendas_train.min()['prezo']) + vivendas_train.min()['prezo'])\n",
    "erro_6 = ecm(vivendas_test['prezo'], predicions_6)\n",
    "\n",
    "print('Tempo de execución con \"learning_rate = 0.00018\": {:.2f}s'.format(end - start))\n",
    "print('Número de iteracións necesarias: {}'.format(model_vivendas_6.n_iter_))\n",
    "print('Erro cadrático medio: {}'.format(erro_6))"
   ]
  },
  {
   "cell_type": "markdown",
   "metadata": {},
   "source": [
    "> ❓ **_Pregunta 5._**  Fíxate nos tempos de execución do adestramento, número de iteracións e ECM de cada un dos modelos do script anterior. Comenta os resultados xustificando as diferenzas."
   ]
  },
  {
   "cell_type": "markdown",
   "metadata": {},
   "source": [
    "# Recoñecemento de díxitos"
   ]
  },
  {
   "cell_type": "markdown",
   "metadata": {},
   "source": [
    "No seguinte exercicio imos abordar un problema de **clasificación**. Lembra que, a diferenza da regresión, a clasificación consiste en predicir unha clase, é dicir, un valor discreto, non continuo. Recorda que xa fixemos clasificación nas prácticas de CLIPS onde definiamos regras de decisión para diferenciar, por exemplo, distintos animais en base á súa taxonomía. Agora imos empregar un dataset significativamente máis grande que o anterior das vivendas (aínda que segue sendo moi pequeno se o comparamos cos tamaños que se manexan na actualidade). O novo dataset chámase `dixitos.csv` e contén imaxes de díxitos escritos a man por distintas persoas, logo o que pretendemos é obter un modelo que sexa capaz de predicir o díxito en cuestión en base a un conxunto de variables de entrada. En total existen 10 díxitos no sistema decimal, porén teremos que distinguir entre 10 clases distintas.\n",
    "\n",
    "Comezamos como sempre cargando o dataset:"
   ]
  },
  {
   "cell_type": "code",
   "execution_count": 42,
   "metadata": {},
   "outputs": [],
   "source": [
    "dixitos = pd.read_csv('dixitos.csv',\n",
    "                       delimiter=',',\n",
    "                       header=None)"
   ]
  },
  {
   "cell_type": "markdown",
   "metadata": {},
   "source": [
    "Imos ver as súas dimensións"
   ]
  },
  {
   "cell_type": "code",
   "execution_count": 43,
   "metadata": {},
   "outputs": [
    {
     "data": {
      "text/plain": [
       "(2000, 785)"
      ]
     },
     "execution_count": 43,
     "metadata": {},
     "output_type": "execute_result"
    }
   ],
   "source": [
    "dixitos.shape"
   ]
  },
  {
   "cell_type": "code",
   "execution_count": 44,
   "metadata": {},
   "outputs": [
    {
     "data": {
      "text/html": [
       "<div>\n",
       "<style scoped>\n",
       "    .dataframe tbody tr th:only-of-type {\n",
       "        vertical-align: middle;\n",
       "    }\n",
       "\n",
       "    .dataframe tbody tr th {\n",
       "        vertical-align: top;\n",
       "    }\n",
       "\n",
       "    .dataframe thead th {\n",
       "        text-align: right;\n",
       "    }\n",
       "</style>\n",
       "<table border=\"1\" class=\"dataframe\">\n",
       "  <thead>\n",
       "    <tr style=\"text-align: right;\">\n",
       "      <th></th>\n",
       "      <th>0</th>\n",
       "    </tr>\n",
       "  </thead>\n",
       "  <tbody>\n",
       "    <tr>\n",
       "      <th>0</th>\n",
       "      <td>7</td>\n",
       "    </tr>\n",
       "    <tr>\n",
       "      <th>1</th>\n",
       "      <td>2</td>\n",
       "    </tr>\n",
       "    <tr>\n",
       "      <th>2</th>\n",
       "      <td>1</td>\n",
       "    </tr>\n",
       "    <tr>\n",
       "      <th>3</th>\n",
       "      <td>0</td>\n",
       "    </tr>\n",
       "    <tr>\n",
       "      <th>4</th>\n",
       "      <td>4</td>\n",
       "    </tr>\n",
       "    <tr>\n",
       "      <th>...</th>\n",
       "      <td>...</td>\n",
       "    </tr>\n",
       "    <tr>\n",
       "      <th>1995</th>\n",
       "      <td>0</td>\n",
       "    </tr>\n",
       "    <tr>\n",
       "      <th>1996</th>\n",
       "      <td>6</td>\n",
       "    </tr>\n",
       "    <tr>\n",
       "      <th>1997</th>\n",
       "      <td>3</td>\n",
       "    </tr>\n",
       "    <tr>\n",
       "      <th>1998</th>\n",
       "      <td>9</td>\n",
       "    </tr>\n",
       "    <tr>\n",
       "      <th>1999</th>\n",
       "      <td>5</td>\n",
       "    </tr>\n",
       "  </tbody>\n",
       "</table>\n",
       "<p>2000 rows × 1 columns</p>\n",
       "</div>"
      ],
      "text/plain": [
       "      0\n",
       "0     7\n",
       "1     2\n",
       "2     1\n",
       "3     0\n",
       "4     4\n",
       "...  ..\n",
       "1995  0\n",
       "1996  6\n",
       "1997  3\n",
       "1998  9\n",
       "1999  5\n",
       "\n",
       "[2000 rows x 1 columns]"
      ]
     },
     "execution_count": 44,
     "metadata": {},
     "output_type": "execute_result"
    }
   ],
   "source": [
    "dixitos.iloc[:, 0:1].astype(\"category\")"
   ]
  },
  {
   "cell_type": "code",
   "execution_count": 45,
   "metadata": {},
   "outputs": [
    {
     "data": {
      "text/plain": [
       "array([[7, 0, 0, ..., 0, 0, 0],\n",
       "       [2, 0, 0, ..., 0, 0, 0],\n",
       "       [1, 0, 0, ..., 0, 0, 0],\n",
       "       ...,\n",
       "       [3, 0, 0, ..., 0, 0, 0],\n",
       "       [9, 0, 0, ..., 0, 0, 0],\n",
       "       [5, 0, 0, ..., 0, 0, 0]])"
      ]
     },
     "execution_count": 45,
     "metadata": {},
     "output_type": "execute_result"
    }
   ],
   "source": [
    "dixitos.values"
   ]
  },
  {
   "cell_type": "markdown",
   "metadata": {},
   "source": [
    "Co cal temos 2000 imaxes de díxitos representados por 784 variables, xa que a variable restante é a etiqueta que nos indica a que clase pertence cada exemplo, tomando valores discretos do 0 ao 9. Cada unha das 784 variables de entrada representa un valor de intensidade, de xeito que podemos ver o conxunto coma unha matriz de 28x28 píxeles, que codifican cada unha das imaxes de díxitos en escala de grises.\n",
    "\n",
    "Co que sabemos ata aquí podemos intuir xa que a nosa rede neuronal vai ter na capa de entrada 784 variables pero, que sucede coa capa de saída? Como podemos codificar a saída para que nos diga a que clase pertence un díxito? Sendo un problema de clasificación onde diferenciamos 10 clases distintas, parece lóxico que na capa de saída haxa 10 neuronas, unha por clase (isto falo automáticamente a clase `MLPClassifier` cando definimos a saída coma un tipo `category`).\n",
    " \n",
    "As seguintes funcións realizan algunhas tarefas necesarias de preprocesado: a normalización do dataset e a codificación da saída. Toma un tempo para analizalas con calma."
   ]
  },
  {
   "cell_type": "code",
   "execution_count": 55,
   "metadata": {},
   "outputs": [],
   "source": [
    "## Función de preprocesado do dataset\n",
    "def preprocesar_dixitos(df):\n",
    "    # Tomamos as 784 variables de entrada\n",
    "    df_X = df.iloc[:, 1:]\n",
    "    # Normalizamos os seus valores\n",
    "    df_X = norm_num(df_X)\n",
    "    \n",
    "    # Tomamos a variable de saida\n",
    "    df_Y = df.iloc[:, 0:1]\n",
    "    # Convertímola ao tipo de dato category (pois son etiquetas que poden tomar un número delimitado de valores)\n",
    "    df_Y = df_Y.astype(\"category\")\n",
    "    # Renomeamos a columna\n",
    "    df_Y.columns = ['label']\n",
    "    \n",
    "    # Xuntamos as novas entradas normalizadas coas novas saídas codificadas\n",
    "    novo_df = pd.concat([df_X, df_Y], axis=1)\n",
    "    \n",
    "    return novo_df\n",
    "\n",
    "# Función para aplicar de a normalización\n",
    "def norm_num(df):\n",
    "    columnas_numericas = list(df.select_dtypes(include=[np.number]).columns.values)\n",
    "    if len(columnas_numericas) > 0:\n",
    "        # Aplicamos unha normalizacion min-max, coa diferencia de que xa sabemos que os valores van de [0, 255]\n",
    "        df.loc[:, columnas_numericas] = df.loc[:, columnas_numericas] / 255.0\n",
    "\n",
    "    return df"
   ]
  },
  {
   "cell_type": "markdown",
   "metadata": {},
   "source": [
    "Imos aplicar ese preprocesado ao dataset e dividilo nos habituais conxuntos de adestramento e test:"
   ]
  },
  {
   "cell_type": "code",
   "execution_count": 56,
   "metadata": {},
   "outputs": [
    {
     "name": "stderr",
     "output_type": "stream",
     "text": [
      "/opt/conda/lib/python3.9/site-packages/pandas/core/indexing.py:1884: SettingWithCopyWarning: \n",
      "A value is trying to be set on a copy of a slice from a DataFrame.\n",
      "Try using .loc[row_indexer,col_indexer] = value instead\n",
      "\n",
      "See the caveats in the documentation: https://pandas.pydata.org/pandas-docs/stable/user_guide/indexing.html#returning-a-view-versus-a-copy\n",
      "  self._setitem_single_column(loc, val, pi)\n"
     ]
    },
    {
     "name": "stdout",
     "output_type": "stream",
     "text": [
      "(1400, 785)\n",
      "(600, 785)\n"
     ]
    }
   ],
   "source": [
    "dixitos_proc = preprocesar_dixitos(dixitos)\n",
    "\n",
    "np.random.seed(SEED_VALUE)\n",
    "dixitos_train, dixitos_test = train_test_split(dixitos_proc, test_size=0.3, random_state=SEED_VALUE)\n",
    "\n",
    "dixitos_train_X = dixitos_train.loc[:, dixitos_train.columns != 'label']\n",
    "dixitos_train_Y = dixitos_train.loc[:, 'label']\n",
    "\n",
    "dixitos_test_X = dixitos_test.loc[:, dixitos_test.columns != 'label']\n",
    "dixitos_test_Y = dixitos_test.loc[:, 'label']\n",
    "\n",
    "print(dixitos_train.shape)\n",
    "print(dixitos_test.shape)"
   ]
  },
  {
   "cell_type": "markdown",
   "metadata": {},
   "source": [
    "Estamos listos para adestrar un novo modelo, pero primeiro imos visualizar un exemplo calquera do dataset para rematar de comprender que aspecto ten o conxunto de datos."
   ]
  },
  {
   "cell_type": "code",
   "execution_count": 48,
   "metadata": {},
   "outputs": [
    {
     "data": {
      "text/html": [
       "<div>\n",
       "<style scoped>\n",
       "    .dataframe tbody tr th:only-of-type {\n",
       "        vertical-align: middle;\n",
       "    }\n",
       "\n",
       "    .dataframe tbody tr th {\n",
       "        vertical-align: top;\n",
       "    }\n",
       "\n",
       "    .dataframe thead th {\n",
       "        text-align: right;\n",
       "    }\n",
       "</style>\n",
       "<table border=\"1\" class=\"dataframe\">\n",
       "  <thead>\n",
       "    <tr style=\"text-align: right;\">\n",
       "      <th></th>\n",
       "      <th>1</th>\n",
       "      <th>2</th>\n",
       "      <th>3</th>\n",
       "      <th>4</th>\n",
       "      <th>5</th>\n",
       "      <th>6</th>\n",
       "      <th>7</th>\n",
       "      <th>8</th>\n",
       "      <th>9</th>\n",
       "      <th>10</th>\n",
       "      <th>...</th>\n",
       "      <th>776</th>\n",
       "      <th>777</th>\n",
       "      <th>778</th>\n",
       "      <th>779</th>\n",
       "      <th>780</th>\n",
       "      <th>781</th>\n",
       "      <th>782</th>\n",
       "      <th>783</th>\n",
       "      <th>784</th>\n",
       "      <th>label</th>\n",
       "    </tr>\n",
       "  </thead>\n",
       "  <tbody>\n",
       "    <tr>\n",
       "      <th>710</th>\n",
       "      <td>0.0</td>\n",
       "      <td>0.0</td>\n",
       "      <td>0.0</td>\n",
       "      <td>0.0</td>\n",
       "      <td>0.0</td>\n",
       "      <td>0.0</td>\n",
       "      <td>0.0</td>\n",
       "      <td>0.0</td>\n",
       "      <td>0.0</td>\n",
       "      <td>0.0</td>\n",
       "      <td>...</td>\n",
       "      <td>0.0</td>\n",
       "      <td>0.0</td>\n",
       "      <td>0.0</td>\n",
       "      <td>0.0</td>\n",
       "      <td>0.0</td>\n",
       "      <td>0.0</td>\n",
       "      <td>0.0</td>\n",
       "      <td>0.0</td>\n",
       "      <td>0.0</td>\n",
       "      <td>5</td>\n",
       "    </tr>\n",
       "  </tbody>\n",
       "</table>\n",
       "<p>1 rows × 785 columns</p>\n",
       "</div>"
      ],
      "text/plain": [
       "       1    2    3    4    5    6    7    8    9   10  ...  776  777  778  \\\n",
       "710  0.0  0.0  0.0  0.0  0.0  0.0  0.0  0.0  0.0  0.0  ...  0.0  0.0  0.0   \n",
       "\n",
       "     779  780  781  782  783  784  label  \n",
       "710  0.0  0.0  0.0  0.0  0.0  0.0      5  \n",
       "\n",
       "[1 rows x 785 columns]"
      ]
     },
     "execution_count": 48,
     "metadata": {},
     "output_type": "execute_result"
    }
   ],
   "source": [
    "fila_exemplo = 0  # Podes cambiar este número pola fila que desexes consultar\n",
    "\n",
    "exemplo = dixitos_train.iloc[fila_exemplo:fila_exemplo+1] \n",
    "exemplo"
   ]
  },
  {
   "cell_type": "markdown",
   "metadata": {},
   "source": [
    "Este díxito debería corresponderse co seguinte número:"
   ]
  },
  {
   "cell_type": "code",
   "execution_count": 49,
   "metadata": {},
   "outputs": [
    {
     "data": {
      "text/plain": [
       "710    5\n",
       "Name: label, dtype: category\n",
       "Categories (10, int64): [0, 1, 2, 3, ..., 6, 7, 8, 9]"
      ]
     },
     "execution_count": 49,
     "metadata": {},
     "output_type": "execute_result"
    }
   ],
   "source": [
    "exemplo['label']"
   ]
  },
  {
   "cell_type": "code",
   "execution_count": 50,
   "metadata": {},
   "outputs": [
    {
     "data": {
      "text/plain": [
       "<matplotlib.image.AxesImage at 0x7f4e310e1100>"
      ]
     },
     "execution_count": 50,
     "metadata": {},
     "output_type": "execute_result"
    },
    {
     "data": {
      "image/png": "[encoded data removed]",
      "text/plain": [
       "<Figure size 432x288 with 1 Axes>"
      ]
     },
     "metadata": {
      "needs_background": "light"
     },
     "output_type": "display_data"
    }
   ],
   "source": [
    "exemplo_values = exemplo.loc[:, exemplo.columns != 'label'].values\n",
    "l = int(np.sqrt(exemplo_values.shape[1]))\n",
    "\n",
    "exemplo_img = np.reshape(exemplo_values, [l, l])\n",
    "\n",
    "plt.imshow(exemplo_img, cmap='gray', vmin=0, vmax=1.0)"
   ]
  },
  {
   "cell_type": "markdown",
   "metadata": {},
   "source": [
    "Imos construir a rede. Lembra que xa estamos traballando con dimensións respetables de datos, polo que o adestramento non vai ser instantáneo, ten paciencia porque pode que tarde un pouco (1-2 minutos como moito)."
   ]
  },
  {
   "cell_type": "code",
   "execution_count": 51,
   "metadata": {},
   "outputs": [
    {
     "name": "stdout",
     "output_type": "stream",
     "text": [
      "Tempo de adestramento\": 119.43s\n"
     ]
    }
   ],
   "source": [
    "from sklearn.neural_network import MLPClassifier\n",
    "\n",
    "model_dixitos = MLPClassifier(hidden_layer_sizes=[20, 20, 20], max_iter=30000, activation='relu', solver='adam',\n",
    "                              learning_rate_init=0.01, n_iter_no_change=1000, tol=1e-6, random_state=SEED_VALUE)\n",
    "\n",
    "\n",
    "np.random.seed(SEED_VALUE)\n",
    "\n",
    "start = time.process_time()\n",
    "model_dixitos.fit(dixitos_train_X, dixitos_train_Y)\n",
    "end = time.process_time()\n",
    "print('Tempo de adestramento\": {:.2f}s'.format(end - start))"
   ]
  },
  {
   "cell_type": "markdown",
   "metadata": {},
   "source": [
    "> ❓ **_Pregunta 6._**  Observa o script anterior. Cantas capas ten a rede (entrada, ocultas e saída), e con cantas neuronas cada unha? Como definimos o tamaño de cada unha delas?"
   ]
  },
  {
   "cell_type": "markdown",
   "metadata": {},
   "source": [
    "Facemos a predición sobre o conxunto de test:"
   ]
  },
  {
   "cell_type": "code",
   "execution_count": 57,
   "metadata": {},
   "outputs": [],
   "source": [
    "np.random.seed(SEED_VALUE)\n",
    "dixitos_test_pred = model_dixitos.predict_proba(dixitos_test_X)"
   ]
  },
  {
   "cell_type": "markdown",
   "metadata": {},
   "source": [
    "Observa a apariencia que teñen as predicións obtidas:"
   ]
  },
  {
   "cell_type": "code",
   "execution_count": 58,
   "metadata": {},
   "outputs": [
    {
     "data": {
      "text/plain": [
       "(600, 10)"
      ]
     },
     "execution_count": 58,
     "metadata": {},
     "output_type": "execute_result"
    }
   ],
   "source": [
    "dixitos_test_pred.shape"
   ]
  },
  {
   "cell_type": "markdown",
   "metadata": {},
   "source": [
    "Tomemos de exemplo a primeira predición do conxunto de test:"
   ]
  },
  {
   "cell_type": "code",
   "execution_count": 59,
   "metadata": {},
   "outputs": [
    {
     "name": "stdout",
     "output_type": "stream",
     "text": [
      "0: 0.00%\n",
      "1: 0.00%\n",
      "2: 0.00%\n",
      "3: 0.00%\n",
      "4: 0.00%\n",
      "5: 0.00%\n",
      "6: 0.00%\n",
      "7: 0.00%\n",
      "8: 63.01%\n",
      "9: 36.99%\n"
     ]
    }
   ],
   "source": [
    "fila_exemplo = 0  # Podes cambiar este número pola fila que desexes consultar\n",
    "\n",
    "exemplo = dixitos_test_pred[fila_exemplo] \n",
    "exemplo\n",
    "\n",
    "for i, c in enumerate(model_dixitos.classes_):\n",
    "    print('{}: {:.2f}%'.format(c, exemplo[i]*100))"
   ]
  },
  {
   "cell_type": "markdown",
   "metadata": {},
   "source": [
    "No caso anterior parece que a rede cre ao 63% que ese díxito se trata dun 8, xa que da un valor de 0.6301 no segundo elemento do vector de saída (percátate de que no print anterior estamos a multiplicar a saída por 100). Vexamos cal é o seu valor real:"
   ]
  },
  {
   "cell_type": "code",
   "execution_count": 60,
   "metadata": {},
   "outputs": [
    {
     "name": "stdout",
     "output_type": "stream",
     "text": [
      "Valor real: [8]\n",
      "Categories (10, int64): [0, 1, 2, 3, ..., 6, 7, 8, 9]\n"
     ]
    },
    {
     "data": {
      "image/png": "[encoded data removed]",
      "text/plain": [
       "<Figure size 432x288 with 1 Axes>"
      ]
     },
     "metadata": {
      "needs_background": "light"
     },
     "output_type": "display_data"
    }
   ],
   "source": [
    "exemplo_test_Y = dixitos_test_Y.iloc[fila_exemplo:fila_exemplo+1]\n",
    "exemplo_test_X = dixitos_test_X.iloc[fila_exemplo:fila_exemplo+1] \n",
    "\n",
    "exemplo_test_values = exemplo_test_X.loc[:, exemplo_test_X.columns != 'label'].values\n",
    "exemplo_test_img = np.reshape(exemplo_test_values, [l, l])\n",
    "\n",
    "plt.imshow(exemplo_test_img, cmap='gray', vmin=0, vmax=1.0)\n",
    "print('Valor real: {}'.format(exemplo_test_Y.values))"
   ]
  },
  {
   "cell_type": "markdown",
   "metadata": {},
   "source": [
    "Efectivamente, un 8. En regresión empregábamos o erro cadrático medio para estimar a calidade das predicións pero, como podemos facer isto nun problema de clasificación? Unha medida moi sinxela pero amplamente empregada é a ___accuracy___, ou **taxa de acerto**: \n",
    "$$ Accuracy = \\frac{\\text{nº de acertos}}{\\text{nº de predicións}} $$"
   ]
  },
  {
   "cell_type": "markdown",
   "metadata": {},
   "source": [
    "Primeiro, convertimos os vectores de predicións que obtivemos a un único valor. Para cada predición quedámonos co díxito que obtén un maior valor (isto xa o faría automáticamente a función `.predict()`):"
   ]
  },
  {
   "cell_type": "code",
   "execution_count": 61,
   "metadata": {},
   "outputs": [
    {
     "data": {
      "text/plain": [
       "array([8, 8, 3, 9, 9, 3])"
      ]
     },
     "execution_count": 61,
     "metadata": {},
     "output_type": "execute_result"
    }
   ],
   "source": [
    "dixitos_test_pred_label = model_dixitos.classes_[np.argmax(dixitos_test_pred, axis=-1)]\n",
    "dixitos_test_pred_label[:6]"
   ]
  },
  {
   "cell_type": "markdown",
   "metadata": {},
   "source": [
    "Nos seguites dous scripts calculamos a *accuracy*:"
   ]
  },
  {
   "cell_type": "code",
   "execution_count": 62,
   "metadata": {},
   "outputs": [
    {
     "data": {
      "text/plain": [
       "529"
      ]
     },
     "execution_count": 62,
     "metadata": {},
     "output_type": "execute_result"
    }
   ],
   "source": [
    "coincidencias = dixitos_test_pred_label == dixitos_test_Y\n",
    "acertos = sum(coincidencias)\n",
    "acertos"
   ]
  },
  {
   "cell_type": "code",
   "execution_count": 63,
   "metadata": {},
   "outputs": [
    {
     "data": {
      "text/plain": [
       "0.8816666666666667"
      ]
     },
     "execution_count": 63,
     "metadata": {},
     "output_type": "execute_result"
    }
   ],
   "source": [
    "total = len(dixitos_test_Y) \n",
    "accuracy = acertos / total\n",
    "accuracy"
   ]
  },
  {
   "cell_type": "markdown",
   "metadata": {},
   "source": [
    "> ❓ **_Pregunta 7._**  Explica cal é o contido das variables `coincidencias`, `acertos` e `total`. Que significa obter unha *accuracy* de 0.88, ou do 88%?"
   ]
  },
  {
   "cell_type": "markdown",
   "metadata": {},
   "source": [
    "Finalmente, podemos ver unha matriz de confusión entre os valores reais e as predicións do seguinte xeito:"
   ]
  },
  {
   "cell_type": "code",
   "execution_count": 64,
   "metadata": {},
   "outputs": [
    {
     "name": "stderr",
     "output_type": "stream",
     "text": [
      "/opt/conda/lib/python3.9/site-packages/sklearn/utils/deprecation.py:87: FutureWarning: Function plot_confusion_matrix is deprecated; Function `plot_confusion_matrix` is deprecated in 1.0 and will be removed in 1.2. Use one of the class methods: ConfusionMatrixDisplay.from_predictions or ConfusionMatrixDisplay.from_estimator.\n",
      "  warnings.warn(msg, category=FutureWarning)\n"
     ]
    },
    {
     "data": {
      "image/png": "[encoded data removed]",
      "text/plain": [
       "<Figure size 720x720 with 2 Axes>"
      ]
     },
     "metadata": {
      "needs_background": "light"
     },
     "output_type": "display_data"
    }
   ],
   "source": [
    "from sklearn.metrics import plot_confusion_matrix\n",
    "\n",
    "fig, ax = plt.subplots(figsize=(10, 10))\n",
    "disp = plot_confusion_matrix(model_dixitos, dixitos_test_X, dixitos_test_Y, ax=ax)\n",
    "disp.figure_.suptitle(\"Matriz de confusión\")\n",
    "\n",
    "plt.show()"
   ]
  },
  {
   "cell_type": "markdown",
   "metadata": {},
   "source": [
    "> ❓ **_Pregunta 8._**  Cales son as conclusións máis relevantes que se poden extraer da matriz anterior?"
   ]
  },
  {
   "cell_type": "markdown",
   "metadata": {},
   "source": [
    "**************************************************************"
   ]
  },
  {
   "cell_type": "markdown",
   "metadata": {},
   "source": [
    "# Respostas ao cuestionario (10 puntos)"
   ]
  },
  {
   "cell_type": "markdown",
   "metadata": {},
   "source": [
    "**LEMBRA:** Non esquezas de escribir teu nome e apelidos na segunda celda do presente documento."
   ]
  },
  {
   "cell_type": "markdown",
   "metadata": {},
   "source": [
    "**Pregunta 1**\n",
    "\n",
    "Tenemos 3 pesos para cada cada conexión que llega a las 3 nueronas de la capa oculta, y 3 pesos para cada conexión de estas neuronas con la neurona de la capa de salida, teniendo así 6. Por otro lado, las neuronas de la capa oculta y la de la capa de salida tienen un sesgo o \"bia\" en ingés, que marca lo propenso que es de sacar un valor de 0 o 1 según el peso que se le de, por lo que tenemos 4 pesos más en el modelo, teniendo un total de 10. "
   ]
  },
  {
   "cell_type": "markdown",
   "metadata": {},
   "source": [
    "**Pregunta 2**\n",
    "\n",
    "Si se tratasen los datos de test y train de igual forma se producirían cambios en el entrenamiento de la función, ya que se estarían utilizando los datos de test para normalizar. Por otro lado, no se puede normalizar todo y luego separar, ya que podríamos estar selecionando datos aleatoriamente para train, pero a partir de un cierto valor (por ejemplo de las colas, en el primer y último cuantil). En este caso la construcción del modelo sería muy poco real ya que la mayoría de valores esperados no estarían dentro de los datos de train. \n",
    "Se normalizan de forma independiente ya que los conjuntos train y test pueden tener valores mjy distintos, por lo que la normalización sería distinta, ya que tendrían un máximo y mínimo distinto. Recordemos que el parámetro mu de la normal es el \"centro\" de la campana, y se si tienen datos de máximo y mínimos distintos, ese mu va a ser diferente, por lo que se normaliza en función de lo máximos y mínimos de la variable train, para que los datos de test tenga el mismo parámetro mu (estén en la misma distribución normal). \n"
   ]
  },
  {
   "cell_type": "markdown",
   "metadata": {},
   "source": [
    "**Pregunta 3**\n",
    "Primero vemos que se grafican los puntos del dataset al completo, tanto del conjunto entrenamiento como del conjunto de test. El line_x_vals son 100 valores a lo largo del eje X, que se utilizarán para graficar los modelos. Antes de realizar las gráficas de los modelos nueronales, se ve cómo obtiene el mínimo y el máximo del eje x, es decir, de la superficie, para normalizar los valores de line_x_vals, de forma similar a los apartados anteriores. Esto se realiza, como cabía esperar, con los datos de entrenamiento, ya que se va a normalizar en función de su máximo y mínimo. Después de realizar esto pasos previos, se grafican los modelos neuronales. \n",
    "\n",
    "El primero va a estar en rojo, se ve claramente el fenómeno de unferfitting, ya que al emplearlo con los datos no normalizados no se ha generalizado el modelo y presenta predicciones muy similares para todos los valores de superficie, en torno a 71. \n",
    "\n",
    "La segunda gráfica, de color azul, es la del modelo con el ajuste correcto. Como se puede observar, se utilizan los 100 valores del eje X normalizados en función de los datos de entrenamiento. Después de realizar la predicción, se desnormalizan los datos predecidos para graficarlos correctamente con respecto al  dataset, y se observa como se obtiene una gráfica de regresión no lineal que se ajusta correctamente a los datos. \n",
    "\n",
    "Por último, se muestra el modelo de la red neuronal con overfitting, en el que claramente se obseva como se encuentran muchas más relaciones entre los datos, resultando así una función oscilante. Este fenómeno se ve de manifiesto especialmente en el dato que en prácticas anteriores se categorizó como outlier, con una superficie en torno a 240 y un precio en torno a 100. Como se encuentran relaciones también con ese dato, hace que la gráfica de dispersión se desplace hacia él, sobreajustando, y por lo tanto distorsionando de forma notable el resultado. Por lo que, a expensas de lo observado, si se trabajase con la red con 53 neuronas, habría que eliminar los datos de ouliers para no distorsionar el modelo predictivo. \n"
   ]
  },
  {
   "cell_type": "markdown",
   "metadata": {},
   "source": [
    "**Pregunta 4**\n",
    "\n",
    "Los nodos y las flechas de color azul representan el sesgo de la función predictiva de las neuronas, tanto para cada neurona de la capa oculta como para la nuerona de la capa de salida, teniendo una función de variable independiente. Recordar que en función del valor independiente, el intercepto de la regresión va a variar, y por tanto la clasificación varía.  En este caso, tienen un valor de 1, ya que se entiende que se va a multiplicar el peso asociado siempre por la constante 1, y no por ninguna neurona de entrada, por lo que no puede tener otro valor. "
   ]
  },
  {
   "cell_type": "markdown",
   "metadata": {},
   "source": [
    "**Pregunta 5**\n",
    "Para el primer modelo, con un  learning_rate_init de 0.001, se ve como el tiempo de ejecución es de 2.45, mientras que para 0.00018 es de 4.47, valores que están determinados por el número necesario de iteracciones para la convergencia. Esto concuerda con el concepto de velocidad de aprendizaje, ya que cuanto menor sea el valor, menor es esta velocidad, y por lo tanto más tiempo necesita el algoritmo para converger. Por otro lado, vemos como al ser valores menores que 0.0025, el algoritmo aprende menos de cada dato, por lo que el outlier va tener un impacto menor en la distorsión del resultado de la predicción, lo que se puede ver reflejado en el ECM. Con respecto a 0.0025 calculado previamente, mejora significativamente (de 8395.087624970767 a 1998.7191216475017) situando un valor de 0.001, y la mejora es menor cuando se sitúa el valor dee 0.00018, ya que el coste tendrá un límite inferior y cada vez la mejora es menor.\n",
    "\n",
    "Por último, en cuanto a la comparación entre ellos, vemos que el segundo modelo se ejecuta casi en el doble de tiempo que el primero, pero la mejor del ECM no es significativa, por lo que a la hora de elegir un modelo sería más óptimo quedarse con el 5. \n"
   ]
  },
  {
   "cell_type": "markdown",
   "metadata": {},
   "source": [
    "\n",
    "**Pregunta 6**\n",
    "Hay 1 capa de entrada, 3 ocultas y 1 de salida. Cada capa oculta tiene 20 neuronas. Por otro lado, la capa de entrada tiene tantas neuronas como atributos de entrada, por lo que tiene 784 neuronas en la capa de entrada, que es igual al número de pixeles que hay. En la capa de salida hay 10 neuronas, igual al número de categorías que hay, es decir, los 10 posibles números. \n"
   ]
  },
  {
   "cell_type": "markdown",
   "metadata": {},
   "source": [
    "**Pregunta 7**\n",
    "La variable coindicencias contiene una lista de booleanos, con un 1 si la predicción o clasificación concide con la variable de test, y un 0 si no coincide. EL número de aciertos es la suma de todas las coincidencias, es decir, de cada acierto en cada predicción. EL total es la longitud total del test, obtiendo así la variable accuracy, dividiendo el número de aciertos entre el total. Tener un accuracy de 0.88 significa que el 88% de los datos fueron predecidos correctamente con la red neuronal,  por lo que se podría decir que es un bueno modelo, ya que el porcentaje es alto. \n"
   ]
  },
  {
   "cell_type": "markdown",
   "metadata": {},
   "source": [
    "**Pregunta 8**\n",
    "La matriz nos muestra para cada posible valor (el conjunto de los números), las veces que se clasificó correctamente, y las que no, mostrando cual fue la clasificación en ese caso. Por ejemplo, para el 0, se clasificó 48 veces correctamente, y una vez se clasificó como un 2. Como la diagonal, es decir, cada valor clasificación correcta de cada valor, es la que más densidad tiene, indica que la gran mayoría de veces se clasificó correctamente. \n",
    "\n",
    "Si analizamos los errores cometidos, por ejemplo, en el número 3, vemos que los errores en la predicción se cometieron clasificandolo como un 2, 5, 7 y 8, números que tienen cierta similitud gráfica con el resultado real, por lo que vemos que la predicción puede fallar cuando se da este caso. Por ejemplo, el dato 4 y 9 es de los mayores errores a la hora de predecirlos, por su alta similitud gráfica, así como el 7 y 9. \n",
    "\n",
    "Por último, con el dataset utilizado, podríamos decir que los números que mejor predice son el 1 y el 4, por tener las tasas más elevadas de acierto. \n"
   ]
  },
  {
   "cell_type": "markdown",
   "metadata": {},
   "source": [
    "**************************************************************"
   ]
  }
 ],
 "metadata": {
  "kernelspec": {
   "display_name": "Python 3 (ipykernel)",
   "language": "python",
   "name": "python3"
  },
  "language_info": {
   "codemirror_mode": {
    "name": "ipython",
    "version": 3
   },
   "file_extension": ".py",
   "mimetype": "text/x-python",
   "name": "python",
   "nbconvert_exporter": "python",
   "pygments_lexer": "ipython3",
   "version": "3.9.7"
  }
 },
 "nbformat": 4,
 "nbformat_minor": 1
}
